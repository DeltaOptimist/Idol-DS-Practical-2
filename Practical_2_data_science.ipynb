{
  "nbformat": 4,
  "nbformat_minor": 0,
  "metadata": {
    "colab": {
      "provenance": []
    },
    "kernelspec": {
      "name": "python3",
      "display_name": "Python 3"
    },
    "language_info": {
      "name": "python"
    }
  },
  "cells": [
    {
      "cell_type": "code",
      "execution_count": 6,
      "metadata": {
        "colab": {
          "base_uri": "https://localhost:8080/"
        },
        "id": "b3DJ8Bb5aj6k",
        "outputId": "2c0085ad-5c12-40b4-c8eb-2db3e7555e33"
      },
      "outputs": [
        {
          "output_type": "stream",
          "name": "stdout",
          "text": [
            "Input Data Values ===================================\n",
            "                       Country ISO-2-CODE ISO-3-Code  ISO-M49\n",
            "0                  Afghanistan         AF        AFG        4\n",
            "1                Aland Islands         AX        ALA      248\n",
            "2                      Albania         AL        ALB        8\n",
            "3                      Algeria         DZ        DZA       12\n",
            "4               American Samoa         AS        ASM       16\n",
            "..                         ...        ...        ...      ...\n",
            "242  Wallis and Futuna Islands         WF        WLF      876\n",
            "243             Western Sahara         EH        ESH      732\n",
            "244                      Yemen         YE        YEM      887\n",
            "245                     Zambia         ZM        ZMB      894\n",
            "246                   Zimbabwe         ZW        ZWE      716\n",
            "\n",
            "[247 rows x 4 columns]\n",
            "=====================================================\n"
          ]
        }
      ],
      "source": [
        "# Utility Start CSV to HORUS =================================\n",
        "# Standard Tools\n",
        "#=============================================================\n",
        "import pandas as pd\n",
        "# Input Agreement ============================================\n",
        "sInputFileName='/content/Country_codes.csv'\n",
        "InputData=pd.read_csv(sInputFileName,encoding=\"latin-1\")\n",
        "print('Input Data Values ===================================')\n",
        "print(InputData)\n",
        "print('=====================================================')\n"
      ]
    },
    {
      "cell_type": "code",
      "source": [
        "InputData.head()"
      ],
      "metadata": {
        "colab": {
          "base_uri": "https://localhost:8080/",
          "height": 206
        },
        "id": "_Z2nl4Z8cRwV",
        "outputId": "ce3bc27b-b7fd-4a37-f730-b8175bed8cba"
      },
      "execution_count": 7,
      "outputs": [
        {
          "output_type": "execute_result",
          "data": {
            "text/plain": [
              "          Country ISO-2-CODE ISO-3-Code  ISO-M49\n",
              "0     Afghanistan         AF        AFG        4\n",
              "1   Aland Islands         AX        ALA      248\n",
              "2         Albania         AL        ALB        8\n",
              "3         Algeria         DZ        DZA       12\n",
              "4  American Samoa         AS        ASM       16"
            ],
            "text/html": [
              "\n",
              "  <div id=\"df-1ab38e39-e30f-4772-a0a8-004a087bbee0\">\n",
              "    <div class=\"colab-df-container\">\n",
              "      <div>\n",
              "<style scoped>\n",
              "    .dataframe tbody tr th:only-of-type {\n",
              "        vertical-align: middle;\n",
              "    }\n",
              "\n",
              "    .dataframe tbody tr th {\n",
              "        vertical-align: top;\n",
              "    }\n",
              "\n",
              "    .dataframe thead th {\n",
              "        text-align: right;\n",
              "    }\n",
              "</style>\n",
              "<table border=\"1\" class=\"dataframe\">\n",
              "  <thead>\n",
              "    <tr style=\"text-align: right;\">\n",
              "      <th></th>\n",
              "      <th>Country</th>\n",
              "      <th>ISO-2-CODE</th>\n",
              "      <th>ISO-3-Code</th>\n",
              "      <th>ISO-M49</th>\n",
              "    </tr>\n",
              "  </thead>\n",
              "  <tbody>\n",
              "    <tr>\n",
              "      <th>0</th>\n",
              "      <td>Afghanistan</td>\n",
              "      <td>AF</td>\n",
              "      <td>AFG</td>\n",
              "      <td>4</td>\n",
              "    </tr>\n",
              "    <tr>\n",
              "      <th>1</th>\n",
              "      <td>Aland Islands</td>\n",
              "      <td>AX</td>\n",
              "      <td>ALA</td>\n",
              "      <td>248</td>\n",
              "    </tr>\n",
              "    <tr>\n",
              "      <th>2</th>\n",
              "      <td>Albania</td>\n",
              "      <td>AL</td>\n",
              "      <td>ALB</td>\n",
              "      <td>8</td>\n",
              "    </tr>\n",
              "    <tr>\n",
              "      <th>3</th>\n",
              "      <td>Algeria</td>\n",
              "      <td>DZ</td>\n",
              "      <td>DZA</td>\n",
              "      <td>12</td>\n",
              "    </tr>\n",
              "    <tr>\n",
              "      <th>4</th>\n",
              "      <td>American Samoa</td>\n",
              "      <td>AS</td>\n",
              "      <td>ASM</td>\n",
              "      <td>16</td>\n",
              "    </tr>\n",
              "  </tbody>\n",
              "</table>\n",
              "</div>\n",
              "      <button class=\"colab-df-convert\" onclick=\"convertToInteractive('df-1ab38e39-e30f-4772-a0a8-004a087bbee0')\"\n",
              "              title=\"Convert this dataframe to an interactive table.\"\n",
              "              style=\"display:none;\">\n",
              "        \n",
              "  <svg xmlns=\"http://www.w3.org/2000/svg\" height=\"24px\"viewBox=\"0 0 24 24\"\n",
              "       width=\"24px\">\n",
              "    <path d=\"M0 0h24v24H0V0z\" fill=\"none\"/>\n",
              "    <path d=\"M18.56 5.44l.94 2.06.94-2.06 2.06-.94-2.06-.94-.94-2.06-.94 2.06-2.06.94zm-11 1L8.5 8.5l.94-2.06 2.06-.94-2.06-.94L8.5 2.5l-.94 2.06-2.06.94zm10 10l.94 2.06.94-2.06 2.06-.94-2.06-.94-.94-2.06-.94 2.06-2.06.94z\"/><path d=\"M17.41 7.96l-1.37-1.37c-.4-.4-.92-.59-1.43-.59-.52 0-1.04.2-1.43.59L10.3 9.45l-7.72 7.72c-.78.78-.78 2.05 0 2.83L4 21.41c.39.39.9.59 1.41.59.51 0 1.02-.2 1.41-.59l7.78-7.78 2.81-2.81c.8-.78.8-2.07 0-2.86zM5.41 20L4 18.59l7.72-7.72 1.47 1.35L5.41 20z\"/>\n",
              "  </svg>\n",
              "      </button>\n",
              "      \n",
              "  <style>\n",
              "    .colab-df-container {\n",
              "      display:flex;\n",
              "      flex-wrap:wrap;\n",
              "      gap: 12px;\n",
              "    }\n",
              "\n",
              "    .colab-df-convert {\n",
              "      background-color: #E8F0FE;\n",
              "      border: none;\n",
              "      border-radius: 50%;\n",
              "      cursor: pointer;\n",
              "      display: none;\n",
              "      fill: #1967D2;\n",
              "      height: 32px;\n",
              "      padding: 0 0 0 0;\n",
              "      width: 32px;\n",
              "    }\n",
              "\n",
              "    .colab-df-convert:hover {\n",
              "      background-color: #E2EBFA;\n",
              "      box-shadow: 0px 1px 2px rgba(60, 64, 67, 0.3), 0px 1px 3px 1px rgba(60, 64, 67, 0.15);\n",
              "      fill: #174EA6;\n",
              "    }\n",
              "\n",
              "    [theme=dark] .colab-df-convert {\n",
              "      background-color: #3B4455;\n",
              "      fill: #D2E3FC;\n",
              "    }\n",
              "\n",
              "    [theme=dark] .colab-df-convert:hover {\n",
              "      background-color: #434B5C;\n",
              "      box-shadow: 0px 1px 3px 1px rgba(0, 0, 0, 0.15);\n",
              "      filter: drop-shadow(0px 1px 2px rgba(0, 0, 0, 0.3));\n",
              "      fill: #FFFFFF;\n",
              "    }\n",
              "  </style>\n",
              "\n",
              "      <script>\n",
              "        const buttonEl =\n",
              "          document.querySelector('#df-1ab38e39-e30f-4772-a0a8-004a087bbee0 button.colab-df-convert');\n",
              "        buttonEl.style.display =\n",
              "          google.colab.kernel.accessAllowed ? 'block' : 'none';\n",
              "\n",
              "        async function convertToInteractive(key) {\n",
              "          const element = document.querySelector('#df-1ab38e39-e30f-4772-a0a8-004a087bbee0');\n",
              "          const dataTable =\n",
              "            await google.colab.kernel.invokeFunction('convertToInteractive',\n",
              "                                                     [key], {});\n",
              "          if (!dataTable) return;\n",
              "\n",
              "          const docLinkHtml = 'Like what you see? Visit the ' +\n",
              "            '<a target=\"_blank\" href=https://colab.research.google.com/notebooks/data_table.ipynb>data table notebook</a>'\n",
              "            + ' to learn more about interactive tables.';\n",
              "          element.innerHTML = '';\n",
              "          dataTable['output_type'] = 'display_data';\n",
              "          await google.colab.output.renderOutput(dataTable, element);\n",
              "          const docLink = document.createElement('div');\n",
              "          docLink.innerHTML = docLinkHtml;\n",
              "          element.appendChild(docLink);\n",
              "        }\n",
              "      </script>\n",
              "    </div>\n",
              "  </div>\n",
              "  "
            ]
          },
          "metadata": {},
          "execution_count": 7
        }
      ]
    },
    {
      "cell_type": "code",
      "source": [
        "# Processing Rules ===========================================\n",
        "ProcessData=InputData\n",
        "# Remove columns ISO-2-Code and ISO-3-CODE\n",
        "ProcessData.drop('ISO-2-CODE', axis=1,inplace=True)\n",
        "ProcessData.drop('ISO-3-Code', axis=1,inplace=True)\n",
        "# Rename Country and ISO-M49\n",
        "ProcessData.rename(columns={'Country': 'CountryName'}, inplace=True)\n",
        "ProcessData.rename(columns={'ISO-M49': 'CountryNumber'}, inplace=True)\n",
        "# Set new Index\n",
        "ProcessData.set_index('CountryNumber', inplace=True)\n",
        "# Sort data by CurrencyNumber\n",
        "ProcessData.sort_values('CountryName', axis=0, ascending=False, inplace=True)"
      ],
      "metadata": {
        "id": "jgIt6HAubfep"
      },
      "execution_count": 8,
      "outputs": []
    },
    {
      "cell_type": "code",
      "source": [
        "print('Process Data Values =================================')\n",
        "print(ProcessData)\n",
        "print('=====================================================')\n",
        "\n",
        "\n",
        "# Output Agreement ===========================================\n",
        "OutputData=ProcessData\n",
        "sOutputFileName='HORUS-CSV-Country.csv'\n",
        "OutputData.to_csv(sOutputFileName, index = False)\n",
        "print('CSV to HORUS - Done')\n",
        "# Utility done ==============================================="
      ],
      "metadata": {
        "colab": {
          "base_uri": "https://localhost:8080/"
        },
        "id": "xQwmCZzebgx4",
        "outputId": "0326aea0-facc-4928-c6f3-12163ae7e598"
      },
      "execution_count": 10,
      "outputs": [
        {
          "output_type": "stream",
          "name": "stdout",
          "text": [
            "Process Data Values =================================\n",
            "                             CountryName\n",
            "CountryNumber                           \n",
            "716                             Zimbabwe\n",
            "894                               Zambia\n",
            "887                                Yemen\n",
            "732                       Western Sahara\n",
            "876            Wallis and Futuna Islands\n",
            "...                                  ...\n",
            "16                        American Samoa\n",
            "12                               Algeria\n",
            "8                                Albania\n",
            "248                        Aland Islands\n",
            "4                            Afghanistan\n",
            "\n",
            "[247 rows x 1 columns]\n",
            "=====================================================\n",
            "CSV to HORUS - Done\n"
          ]
        }
      ]
    },
    {
      "cell_type": "markdown",
      "source": [
        "JSON to HORUS Format"
      ],
      "metadata": {
        "id": "faFaiMbRfWtY"
      }
    },
    {
      "cell_type": "code",
      "source": [
        "# Utility Start JSON to HORUS =================================\n",
        "# Standard Tools\n",
        "#=============================================================\n",
        "import pandas as pd\n",
        "# Input Agreement ============================================\n",
        "sInputFileName='Country_Code.json'\n",
        "InputData=pd.read_json(sInputFileName, orient='index', encoding=\"latin-1\")\n",
        "print('Input Data Values ===================================')\n",
        "print(InputData)\n",
        "print('=====================================================')\n"
      ],
      "metadata": {
        "colab": {
          "base_uri": "https://localhost:8080/"
        },
        "id": "WqqTxNEafJlv",
        "outputId": "5d82dbbf-e9ba-4ca2-8070-9debe45470e7"
      },
      "execution_count": 25,
      "outputs": [
        {
          "output_type": "stream",
          "name": "stdout",
          "text": [
            "Input Data Values ===================================\n",
            "                       Country ISO-2-CODE ISO-3-Code  ISO-M49\n",
            "0                  Afghanistan         AF        AFG        4\n",
            "1                Aland Islands         AX        ALA      248\n",
            "2                      Albania         AL        ALB        8\n",
            "3                      Algeria         DZ        DZA       12\n",
            "4               American Samoa         AS        ASM       16\n",
            "..                         ...        ...        ...      ...\n",
            "242  Wallis and Futuna Islands         WF        WLF      876\n",
            "243             Western Sahara         EH        ESH      732\n",
            "244                      Yemen         YE        YEM      887\n",
            "245                     Zambia         ZM        ZMB      894\n",
            "246                   Zimbabwe         ZW        ZWE      716\n",
            "\n",
            "[247 rows x 4 columns]\n",
            "=====================================================\n"
          ]
        }
      ]
    },
    {
      "cell_type": "code",
      "source": [
        "# Processing Rules ===========================================\n",
        "ProcessData=InputData\n",
        "# Remove columns ISO-2-Code and ISO-3-CODE\n",
        "ProcessData.drop('ISO-2-CODE', axis=1,inplace=True)\n",
        "ProcessData.drop('ISO-3-Code', axis=1,inplace=True)\n",
        "# Rename Country and ISO-M49\n",
        "ProcessData.rename(columns={'Country': 'CountryName'}, inplace=True)\n",
        "ProcessData.rename(columns={'ISO-M49': 'CountryNumber'}, inplace=True)\n",
        "# Set new Index\n",
        "ProcessData.set_index('CountryNumber', inplace=True)\n",
        "# Sort data by CurrencyNumber\n",
        "ProcessData.sort_values('CountryName', axis=0, ascending=False, inplace=True)\n",
        "print('Process Data Values =================================')\n",
        "print(ProcessData)\n",
        "print('=====================================================')\n",
        "# Output Agreement ===========================================\n",
        "OutputData=ProcessData\n",
        "sOutputFileName='HORUS-JSON-Country.csv'\n",
        "OutputData.to_csv(sOutputFileName, index = False)\n",
        "print('JSON to HORUS - Done')\n",
        "# Utility done ==============================================="
      ],
      "metadata": {
        "colab": {
          "base_uri": "https://localhost:8080/"
        },
        "id": "l3DmUgU7ftd2",
        "outputId": "2d074307-29ee-4343-b5d4-39bdf047744d"
      },
      "execution_count": 26,
      "outputs": [
        {
          "output_type": "stream",
          "name": "stdout",
          "text": [
            "Process Data Values =================================\n",
            "                             CountryName\n",
            "CountryNumber                           \n",
            "716                             Zimbabwe\n",
            "894                               Zambia\n",
            "887                                Yemen\n",
            "732                       Western Sahara\n",
            "876            Wallis and Futuna Islands\n",
            "...                                  ...\n",
            "16                        American Samoa\n",
            "12                               Algeria\n",
            "8                                Albania\n",
            "248                        Aland Islands\n",
            "4                            Afghanistan\n",
            "\n",
            "[247 rows x 1 columns]\n",
            "=====================================================\n",
            "JSON to HORUS - Done\n"
          ]
        }
      ]
    },
    {
      "cell_type": "markdown",
      "source": [
        "MySql Database to HORUS Format"
      ],
      "metadata": {
        "id": "kAGTxIM8kydI"
      }
    },
    {
      "cell_type": "code",
      "source": [
        "# Utility Start Database to HORUS =================================\n",
        "# Standard Tools\n",
        "#=============================================================\n",
        "import pandas as pd\n",
        "import sqlite3 as sq\n",
        "# Input Agreement ============================================\n",
        "sInputFileName='utility.db'\n",
        "sInputTable='Country_Code'\n",
        "conn = sq.connect(sInputFileName)\n",
        "sSQL='select * FROM ' + sInputTable + ';'\n",
        "InputData=pd.read_sql_query(sSQL, conn)\n",
        "print('Input Data Values ===================================')\n",
        "print(InputData)\n",
        "print('=====================================================')\n"
      ],
      "metadata": {
        "colab": {
          "base_uri": "https://localhost:8080/"
        },
        "id": "kTNfuSvahvYE",
        "outputId": "1576b96a-7635-40ba-8a23-b89f70cedee3"
      },
      "execution_count": 30,
      "outputs": [
        {
          "output_type": "stream",
          "name": "stdout",
          "text": [
            "Input Data Values ===================================\n",
            "     index                    Country ISO-2-CODE ISO-3-Code  ISO-M49\n",
            "0        0                Afghanistan         AF        AFG        4\n",
            "1        1              Aland Islands         AX        ALA      248\n",
            "2        2                    Albania         AL        ALB        8\n",
            "3        3                    Algeria         DZ        DZA       12\n",
            "4        4             American Samoa         AS        ASM       16\n",
            "..     ...                        ...        ...        ...      ...\n",
            "242    242  Wallis and Futuna Islands         WF        WLF      876\n",
            "243    243             Western Sahara         EH        ESH      732\n",
            "244    244                      Yemen         YE        YEM      887\n",
            "245    245                     Zambia         ZM        ZMB      894\n",
            "246    246                   Zimbabwe         ZW        ZWE      716\n",
            "\n",
            "[247 rows x 5 columns]\n",
            "=====================================================\n"
          ]
        }
      ]
    },
    {
      "cell_type": "code",
      "source": [
        "# Processing Rules ===========================================\n",
        "ProcessData=InputData\n",
        "# Remove columns ISO-2-Code and ISO-3-CODE\n",
        "ProcessData.drop('ISO-2-CODE', axis=1,inplace=True)\n",
        "ProcessData.drop('ISO-3-Code', axis=1,inplace=True)\n",
        "# Rename Country and ISO-M49\n",
        "ProcessData.rename(columns={'Country': 'CountryName'}, inplace=True)\n",
        "ProcessData.rename(columns={'ISO-M49': 'CountryNumber'}, inplace=True)\n",
        "# Set new Index\n",
        "ProcessData.set_index('CountryNumber', inplace=True)\n",
        "# Sort data by CurrencyNumber\n",
        "ProcessData.sort_values('CountryName', axis=0, ascending=False, inplace=True)\n",
        "print('Process Data Values =================================')\n",
        "print(ProcessData)\n",
        "print('=====================================================')\n",
        "# Output Agreement ===========================================\n",
        "OutputData=ProcessData\n",
        "sOutputFileName='Utility-HORUS-CSV-Country.csv'\n",
        "OutputData.to_csv(sOutputFileName, index = False)\n",
        "print('Database to HORUS - Done')"
      ],
      "metadata": {
        "colab": {
          "base_uri": "https://localhost:8080/"
        },
        "id": "-dDq4jraiJq-",
        "outputId": "3f90dbad-6c9e-49d8-c7c9-de0418003ada"
      },
      "execution_count": 31,
      "outputs": [
        {
          "output_type": "stream",
          "name": "stdout",
          "text": [
            "Process Data Values =================================\n",
            "               index                CountryName\n",
            "CountryNumber                                  \n",
            "716              246                   Zimbabwe\n",
            "894              245                     Zambia\n",
            "887              244                      Yemen\n",
            "732              243             Western Sahara\n",
            "876              242  Wallis and Futuna Islands\n",
            "...              ...                        ...\n",
            "16                 4             American Samoa\n",
            "12                 3                    Algeria\n",
            "8                  2                    Albania\n",
            "248                1              Aland Islands\n",
            "4                  0                Afghanistan\n",
            "\n",
            "[247 rows x 2 columns]\n",
            "=====================================================\n",
            "Database to HORUS - Done\n"
          ]
        }
      ]
    }
  ]
}